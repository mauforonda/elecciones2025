{
 "cells": [
  {
   "cell_type": "code",
   "execution_count": 50,
   "id": "338103d8-02c5-4492-a3c0-e88700645ca0",
   "metadata": {},
   "outputs": [],
   "source": [
    "import geopandas as gpd\n",
    "import pandas as pd\n",
    "from matplotlib.colors import Normalize\n",
    "from lonboard import Map, ScatterplotLayer\n",
    "from lonboard.colormap import apply_continuous_cmap\n",
    "from palettable.matplotlib import Plasma_10\n",
    "from lonboard.basemap import CartoBasemap"
   ]
  },
  {
   "cell_type": "code",
   "execution_count": 2,
   "id": "1fd7971d-08bc-4c14-89d2-39a9823b865f",
   "metadata": {},
   "outputs": [],
   "source": [
    "recintos = gpd.read_file(\"datos/recintos.gpkg\")"
   ]
  },
  {
   "cell_type": "code",
   "execution_count": 3,
   "id": "b9125fc7-eab0-4258-91ab-7f970b81056e",
   "metadata": {},
   "outputs": [],
   "source": [
    "padron = pd.read_parquet(\"datos/padron.parquet\")"
   ]
  },
  {
   "cell_type": "code",
   "execution_count": 62,
   "id": "300665f9-a6c7-4f9c-971f-b793894326b9",
   "metadata": {},
   "outputs": [],
   "source": [
    "def drawMap(columna):\n",
    "    gdf = pd.merge(\n",
    "        recintos,\n",
    "        padron.groupby([\"idloc\", \"recinto_codigo\"], as_index=False)[columna].sum(),\n",
    "        on=[\"idloc\", \"recinto_codigo\"],\n",
    "        how=\"left\",\n",
    "    ).dropna()\n",
    "    gdf[columna] = gdf[columna].astype(int)\n",
    "    scaled = Normalize(vmin=gdf[columna].min(), vmax=gdf[columna].max())(gdf[columna])\n",
    "    layer = ScatterplotLayer.from_geopandas(\n",
    "        gdf,\n",
    "        get_fill_color=apply_continuous_cmap(\n",
    "            scaled,\n",
    "            Plasma_10,\n",
    "        ),\n",
    "        get_radius=scaled * 50,\n",
    "        radius_min_pixels=3,\n",
    "        radius_scale=10,\n",
    "    )\n",
    "    return Map(\n",
    "        layer,\n",
    "        basemap_style=CartoBasemap.DarkMatter,\n",
    "        _height=900,\n",
    "    )"
   ]
  },
  {
   "cell_type": "code",
   "execution_count": 63,
   "id": "96c540c4-3fff-4448-bf18-d4750cd885b9",
   "metadata": {},
   "outputs": [
    {
     "data": {
      "application/vnd.jupyter.widget-view+json": {
       "model_id": "319e11cc1dfc4e90bdd789ad6acb467c",
       "version_major": 2,
       "version_minor": 1
      },
      "text/plain": [
       "Map(basemap_style=<CartoBasemap.DarkMatter: 'https://basemaps.cartocdn.com/gl/dark-matter-gl-style/style.json'…"
      ]
     },
     "execution_count": 63,
     "metadata": {},
     "output_type": "execute_result"
    }
   ],
   "source": [
    "drawMap(\"habilitados\")"
   ]
  },
  {
   "cell_type": "code",
   "execution_count": null,
   "id": "4a437855-1232-4e89-8e08-c44df9b6fa2a",
   "metadata": {},
   "outputs": [],
   "source": [
    "drawMap(\"habilitados\")"
   ]
  },
  {
   "cell_type": "code",
   "execution_count": 70,
   "id": "ef4b3f01-964c-416f-8624-e99d064263df",
   "metadata": {},
   "outputs": [],
   "source": [
    "padron[\"habilitados_40\"] = padron[[f\"habilitados_edad_{i}\" for i in [\"18_20\", \"21_25\", \"26_30\", \"31_35\", \"36_40\"]]].sum(axis=1)"
   ]
  },
  {
   "cell_type": "code",
   "execution_count": 72,
   "id": "c6e563e0-29e9-4bcc-8b3e-b9553ec670ce",
   "metadata": {},
   "outputs": [],
   "source": [
    "padron[\"habilitados_30\"] = padron[[f\"habilitados_edad_{i}\" for i in [\"18_20\", \"21_25\", \"26_30\"]]].sum(axis=1)"
   ]
  },
  {
   "cell_type": "code",
   "execution_count": 73,
   "id": "c7a99de5-7474-417a-88b3-3373f8fd901f",
   "metadata": {},
   "outputs": [
    {
     "data": {
      "application/vnd.jupyter.widget-view+json": {
       "model_id": "4349f878a0d4436eab8efad94c014755",
       "version_major": 2,
       "version_minor": 1
      },
      "text/plain": [
       "Map(basemap_style=<CartoBasemap.DarkMatter: 'https://basemaps.cartocdn.com/gl/dark-matter-gl-style/style.json'…"
      ]
     },
     "execution_count": 73,
     "metadata": {},
     "output_type": "execute_result"
    }
   ],
   "source": [
    "drawMap(\"habilitados_30\")"
   ]
  },
  {
   "cell_type": "code",
   "execution_count": 65,
   "id": "e40c94b9-c14c-4c3f-8fd0-ed6d9f318db6",
   "metadata": {},
   "outputs": [
    {
     "data": {
      "text/html": [
       "<div>\n",
       "<style scoped>\n",
       "    .dataframe tbody tr th:only-of-type {\n",
       "        vertical-align: middle;\n",
       "    }\n",
       "\n",
       "    .dataframe tbody tr th {\n",
       "        vertical-align: top;\n",
       "    }\n",
       "\n",
       "    .dataframe thead th {\n",
       "        text-align: right;\n",
       "    }\n",
       "</style>\n",
       "<table border=\"1\" class=\"dataframe\">\n",
       "  <thead>\n",
       "    <tr style=\"text-align: right;\">\n",
       "      <th></th>\n",
       "      <th>22000</th>\n",
       "    </tr>\n",
       "  </thead>\n",
       "  <tbody>\n",
       "    <tr>\n",
       "      <th>departamento_codigo</th>\n",
       "      <td>6</td>\n",
       "    </tr>\n",
       "    <tr>\n",
       "      <th>departamento</th>\n",
       "      <td>Tarija                                        ...</td>\n",
       "    </tr>\n",
       "    <tr>\n",
       "      <th>provincia_codigo</th>\n",
       "      <td>1</td>\n",
       "    </tr>\n",
       "    <tr>\n",
       "      <th>provincia</th>\n",
       "      <td>Cercado</td>\n",
       "    </tr>\n",
       "    <tr>\n",
       "      <th>municipio_codigo</th>\n",
       "      <td>1</td>\n",
       "    </tr>\n",
       "    <tr>\n",
       "      <th>municipio</th>\n",
       "      <td>Tarija</td>\n",
       "    </tr>\n",
       "    <tr>\n",
       "      <th>idloc</th>\n",
       "      <td>2680</td>\n",
       "    </tr>\n",
       "    <tr>\n",
       "      <th>asiento</th>\n",
       "      <td>Tarija</td>\n",
       "    </tr>\n",
       "    <tr>\n",
       "      <th>distrito_codigo</th>\n",
       "      <td>8</td>\n",
       "    </tr>\n",
       "    <tr>\n",
       "      <th>distrito</th>\n",
       "      <td>DISTRITO 8</td>\n",
       "    </tr>\n",
       "    <tr>\n",
       "      <th>zona_codigo</th>\n",
       "      <td>38</td>\n",
       "    </tr>\n",
       "    <tr>\n",
       "      <th>zona</th>\n",
       "      <td>San Jose</td>\n",
       "    </tr>\n",
       "    <tr>\n",
       "      <th>cincunscripcion_codigo</th>\n",
       "      <td>40</td>\n",
       "    </tr>\n",
       "    <tr>\n",
       "      <th>circunscripcion_tipo</th>\n",
       "      <td>Uninominal</td>\n",
       "    </tr>\n",
       "    <tr>\n",
       "      <th>recinto_codigo</th>\n",
       "      <td>110</td>\n",
       "    </tr>\n",
       "    <tr>\n",
       "      <th>recinto</th>\n",
       "      <td>U.E. Jose Manuel Avila</td>\n",
       "    </tr>\n",
       "    <tr>\n",
       "      <th>mesa_codigo</th>\n",
       "      <td>100320626800011020</td>\n",
       "    </tr>\n",
       "    <tr>\n",
       "      <th>mesa</th>\n",
       "      <td>20</td>\n",
       "    </tr>\n",
       "    <tr>\n",
       "      <th>habilitados</th>\n",
       "      <td>218</td>\n",
       "    </tr>\n",
       "    <tr>\n",
       "      <th>inhabilitados</th>\n",
       "      <td>12</td>\n",
       "    </tr>\n",
       "    <tr>\n",
       "      <th>habilitados_edad_18_20</th>\n",
       "      <td>56</td>\n",
       "    </tr>\n",
       "    <tr>\n",
       "      <th>habilitados_edad_21_25</th>\n",
       "      <td>49</td>\n",
       "    </tr>\n",
       "    <tr>\n",
       "      <th>habilitados_edad_26_30</th>\n",
       "      <td>23</td>\n",
       "    </tr>\n",
       "    <tr>\n",
       "      <th>habilitados_edad_31_35</th>\n",
       "      <td>20</td>\n",
       "    </tr>\n",
       "    <tr>\n",
       "      <th>habilitados_edad_36_40</th>\n",
       "      <td>18</td>\n",
       "    </tr>\n",
       "    <tr>\n",
       "      <th>habilitados_edad_41_45</th>\n",
       "      <td>15</td>\n",
       "    </tr>\n",
       "    <tr>\n",
       "      <th>habilitados_edad_46_50</th>\n",
       "      <td>11</td>\n",
       "    </tr>\n",
       "    <tr>\n",
       "      <th>habilitados_edad_51_55</th>\n",
       "      <td>10</td>\n",
       "    </tr>\n",
       "    <tr>\n",
       "      <th>habilitados_edad_56_60</th>\n",
       "      <td>5</td>\n",
       "    </tr>\n",
       "    <tr>\n",
       "      <th>habilitados_edad_61_65</th>\n",
       "      <td>8</td>\n",
       "    </tr>\n",
       "    <tr>\n",
       "      <th>habilitados_edad_66_adelante</th>\n",
       "      <td>3</td>\n",
       "    </tr>\n",
       "  </tbody>\n",
       "</table>\n",
       "</div>"
      ],
      "text/plain": [
       "                                                                          22000\n",
       "departamento_codigo                                                           6\n",
       "departamento                  Tarija                                        ...\n",
       "provincia_codigo                                                              1\n",
       "provincia                              Cercado                                 \n",
       "municipio_codigo                                                              1\n",
       "municipio                                                                Tarija\n",
       "idloc                                                                      2680\n",
       "asiento                                                                  Tarija\n",
       "distrito_codigo                                                               8\n",
       "distrito                                                             DISTRITO 8\n",
       "zona_codigo                                                                  38\n",
       "zona                                                                   San Jose\n",
       "cincunscripcion_codigo                                                       40\n",
       "circunscripcion_tipo                                                 Uninominal\n",
       "recinto_codigo                                                              110\n",
       "recinto                                                  U.E. Jose Manuel Avila\n",
       "mesa_codigo                                                  100320626800011020\n",
       "mesa                                                                         20\n",
       "habilitados                                                                 218\n",
       "inhabilitados                                                                12\n",
       "habilitados_edad_18_20                                                       56\n",
       "habilitados_edad_21_25                                                       49\n",
       "habilitados_edad_26_30                                                       23\n",
       "habilitados_edad_31_35                                                       20\n",
       "habilitados_edad_36_40                                                       18\n",
       "habilitados_edad_41_45                                                       15\n",
       "habilitados_edad_46_50                                                       11\n",
       "habilitados_edad_51_55                                                       10\n",
       "habilitados_edad_56_60                                                        5\n",
       "habilitados_edad_61_65                                                        8\n",
       "habilitados_edad_66_adelante                                                  3"
      ]
     },
     "execution_count": 65,
     "metadata": {},
     "output_type": "execute_result"
    }
   ],
   "source": [
    "padron.sample().T"
   ]
  }
 ],
 "metadata": {
  "kernelspec": {
   "display_name": "pruebas",
   "language": "python",
   "name": "pruebas"
  },
  "language_info": {
   "codemirror_mode": {
    "name": "ipython",
    "version": 3
   },
   "file_extension": ".py",
   "mimetype": "text/x-python",
   "name": "python",
   "nbconvert_exporter": "python",
   "pygments_lexer": "ipython3",
   "version": "3.12.3"
  }
 },
 "nbformat": 4,
 "nbformat_minor": 5
}
