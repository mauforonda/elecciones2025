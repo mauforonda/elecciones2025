{
 "cells": [
  {
   "cell_type": "code",
   "execution_count": 48,
   "id": "22b0982f-8d69-42e7-b520-f94013f941b3",
   "metadata": {},
   "outputs": [],
   "source": [
    "import requests\n",
    "import geopandas as gpd\n",
    "from tqdm import tqdm"
   ]
  },
  {
   "cell_type": "code",
   "execution_count": 60,
   "id": "3f2c21d5-7332-4186-8cf2-30c3e0397ce9",
   "metadata": {},
   "outputs": [],
   "source": [
    "GEOELECTORAL = \"https://geoelectoral.oep.org.bo/oep/rest/services\"\n",
    "ITEM = \"AsientosElectorales/AsientosRecintos_20_05_2025\"\n",
    "OUTPUT = \"datos\""
   ]
  },
  {
   "cell_type": "code",
   "execution_count": 67,
   "id": "4d8b7224-7253-4ca5-b41d-d7a2bd1092a8",
   "metadata": {},
   "outputs": [],
   "source": [
    "def downloadLayer(mapserver, fieldMap, filename):\n",
    "    print(filename)\n",
    "    features = []\n",
    "    featuresPerCall = 100\n",
    "    server = f\"{GEOELECTORAL}/{ITEM}/MapServer/{mapserver}\"\n",
    "    crs = requests.get(f\"{server}?f=json\").json()[\"sourceSpatialReference\"][\"wkid\"]\n",
    "    fields = \",\".join(fieldMap.keys())\n",
    "    featureIds = requests.get(\n",
    "        f\"{server}/query?where=1=1&returnIdsOnly=true&f=json\"\n",
    "    ).json()[\"objectIds\"]\n",
    "    for i in tqdm(range(0, len(featureIds), featuresPerCall)):\n",
    "        features.extend(\n",
    "            requests.get(\n",
    "                f\"{server}/query\",\n",
    "                params={\n",
    "                    \"objectIds\": \",\".join(\n",
    "                        map(str, featureIds[i : i + featuresPerCall])\n",
    "                    ),\n",
    "                    \"outFields\": fields,\n",
    "                    \"returnGeometry\": \"true\",\n",
    "                    \"f\": \"geojson\",\n",
    "                },\n",
    "            ).json()[\"features\"]\n",
    "        )\n",
    "    gpd.GeoDataFrame.from_features(features, crs=crs).rename(columns=fieldMap).to_file(\n",
    "        f\"{OUTPUT}/{filename}.gpkg\", driver=\"GPKG\"\n",
    "    )"
   ]
  },
  {
   "cell_type": "code",
   "execution_count": 68,
   "id": "1ec0ece5-02cd-4f07-9d4c-7f1ee8a170a2",
   "metadata": {},
   "outputs": [
    {
     "name": "stdout",
     "output_type": "stream",
     "text": [
      "asientos\n"
     ]
    },
    {
     "name": "stderr",
     "output_type": "stream",
     "text": [
      "100%|██████████| 38/38 [00:19<00:00,  1.95calls/s]\n"
     ]
    },
    {
     "name": "stdout",
     "output_type": "stream",
     "text": [
      "recintos\n"
     ]
    },
    {
     "name": "stderr",
     "output_type": "stream",
     "text": [
      "100%|██████████| 58/58 [00:21<00:00,  2.65calls/s]\n"
     ]
    }
   ],
   "source": [
    "for mapserver, fieldMap, filename in zip(\n",
    "    [0, 1],\n",
    "    [{\"IdLoc\": \"idloc\"}, {\"IdLoc\": \"idloc\", \"Reci\": \"recinto_codigo\"}],\n",
    "    [\"asientos\", \"recintos\"],\n",
    "):\n",
    "    downloadLayer(mapserver, fieldMap, filename)"
   ]
  }
 ],
 "metadata": {
  "kernelspec": {
   "display_name": "pruebas",
   "language": "python",
   "name": "pruebas"
  },
  "language_info": {
   "codemirror_mode": {
    "name": "ipython",
    "version": 3
   },
   "file_extension": ".py",
   "mimetype": "text/x-python",
   "name": "python",
   "nbconvert_exporter": "python",
   "pygments_lexer": "ipython3",
   "version": "3.12.3"
  }
 },
 "nbformat": 4,
 "nbformat_minor": 5
}
